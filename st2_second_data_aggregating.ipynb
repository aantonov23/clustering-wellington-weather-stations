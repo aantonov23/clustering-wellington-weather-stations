{
 "cells": [
  {
   "cell_type": "markdown",
   "metadata": {},
   "source": [
    "## Filling missing data for each station"
   ]
  },
  {
   "cell_type": "code",
   "execution_count": 9,
   "metadata": {},
   "outputs": [],
   "source": [
    "import os\n",
    "import pandas as pd"
   ]
  },
  {
   "cell_type": "code",
   "execution_count": 4,
   "metadata": {},
   "outputs": [],
   "source": [
    "unzipped_data = '/media/lenalexu/64522E74522E4ADE/D/Whitireia/ARP/data/unzipped_data/'\n",
    "list_csv_files = os.listdir(unzipped_data)"
   ]
  },
  {
   "cell_type": "code",
   "execution_count": 5,
   "metadata": {},
   "outputs": [],
   "source": [
    "rel_hum_parser_dict = {\n",
    "    12442: '12442__Temperature__H.csv',\n",
    "    18234: '18234__Temperature__H.csv',\n",
    "    25354: '25354__Temperature__A.csv',\n",
    "    25531: '25531__Temperature__A.csv',\n",
    "    2592: '2592__Temperature__A.csv',\n",
    "    2685: '2685__Temperature__A.csv',\n",
    "    3445: '3445__Temperature__A.csv',\n",
    "    40750: '40750__Temperature__H.csv',\n",
    "    40984: '40984__Temperature__H.csv',\n",
    "    41212: '41212__Temperature__H.csv',\n",
    "    41229: '41229__Temperature__A.csv',\n",
    "    41559: '41559__Temperature__H.csv',\n",
    "    8567: '8567__Temperature__A.csv'\n",
    "}"
   ]
  },
  {
   "cell_type": "code",
   "execution_count": 8,
   "metadata": {},
   "outputs": [
    {
     "name": "stdout",
     "output_type": "stream",
     "text": [
      "['12442.csv', '18234.csv', '21938.csv', '25354.csv', '25531.csv', '2592.csv', '2685.csv', '3145.csv', '31857.csv', '3445.csv', '40750.csv', '40984.csv', '41212.csv', '41229.csv', '41559.csv', '8567.csv']\n"
     ]
    }
   ],
   "source": [
    "list_prefilled_stations = (os.listdir('/media/lenalexu/64522E74522E4ADE/D/Whitireia/ARP/data/stations_filled_daily/'))\n",
    "filled_stations = (os.listdir('/media/lenalexu/64522E74522E4ADE/D/Whitireia/ARP/data/stations_filled_all_data/'))\n",
    "remain_stations = [e for e in list_prefilled_stations if e not in filled_stations]\n",
    "print(remain_stations)"
   ]
  },
  {
   "cell_type": "code",
   "execution_count": null,
   "metadata": {},
   "outputs": [],
   "source": [
    "def get_df(station: int) -> pd.DataFrame:\n",
    "    \"\"\"Takes id, Returns df from stations_filled_daily\n",
    "    with 'Observation time UTC' as datetime as index\n",
    "    \"\"\"\n",
    "    df = pd.read_csv(\n",
    "    f'/media/lenalexu/64522E74522E4ADE/D/Whitireia/ARP/data/stations_filled/{station}.csv'\n",
    "    ).drop('Unnamed: 0', axis=1)\n",
    "    df['Observation time UTC'] = pd.to_datetime(df['Observation time UTC']).dt.date\n",
    "    df.set_index('Observation time UTC', inplace=True)\n",
    "    return df\n"
   ]
  }
 ],
 "metadata": {
  "kernelspec": {
   "display_name": ".venv",
   "language": "python",
   "name": "python3"
  },
  "language_info": {
   "codemirror_mode": {
    "name": "ipython",
    "version": 3
   },
   "file_extension": ".py",
   "mimetype": "text/x-python",
   "name": "python",
   "nbconvert_exporter": "python",
   "pygments_lexer": "ipython3",
   "version": "3.12.3"
  }
 },
 "nbformat": 4,
 "nbformat_minor": 2
}
