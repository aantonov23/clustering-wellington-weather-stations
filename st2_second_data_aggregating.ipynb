{
 "cells": [
  {
   "cell_type": "markdown",
   "metadata": {},
   "source": [
    "## Filling missing data for each station"
   ]
  },
  {
   "cell_type": "code",
   "execution_count": 2,
   "metadata": {},
   "outputs": [],
   "source": [
    "import os\n",
    "import pandas as pd"
   ]
  },
  {
   "cell_type": "code",
   "execution_count": 27,
   "metadata": {},
   "outputs": [],
   "source": [
    "BASE_DATA_PATH = r'C:\\D\\Whitireia\\ARP\\data'"
   ]
  },
  {
   "cell_type": "code",
   "execution_count": 28,
   "metadata": {},
   "outputs": [
    {
     "name": "stdout",
     "output_type": "stream",
     "text": [
      "C:\\D\\Whitireia\\ARP\\data\\unzipped_data\n"
     ]
    }
   ],
   "source": [
    "unzipped_data = os.path.join(BASE_DATA_PATH, r'unzipped_data')\n",
    "list_csv_files = os.listdir(unzipped_data)\n",
    "print(unzipped_data)"
   ]
  },
  {
   "cell_type": "code",
   "execution_count": 23,
   "metadata": {},
   "outputs": [],
   "source": [
    "rel_hum_parser_dict = {\n",
    "    12442: '12442__Temperature__H.csv',\n",
    "    18234: '18234__Temperature__H.csv',\n",
    "    25354: '25354__Temperature__A.csv',\n",
    "    25531: '25531__Temperature__A.csv',\n",
    "    2592: '2592__Temperature__A.csv',\n",
    "    2685: '2685__Temperature__A.csv',\n",
    "    3445: '3445__Temperature__A.csv',\n",
    "    40750: '40750__Temperature__H.csv',\n",
    "    40984: '40984__Temperature__H.csv',\n",
    "    41212: '41212__Temperature__H.csv',\n",
    "    41229: '41229__Temperature__A.csv',\n",
    "    41559: '41559__Temperature__H.csv',\n",
    "    8567: '8567__Temperature__A.csv'\n",
    "}"
   ]
  },
  {
   "cell_type": "code",
   "execution_count": 33,
   "metadata": {},
   "outputs": [
    {
     "name": "stdout",
     "output_type": "stream",
     "text": [
      "['12442.csv', '18234.csv', '21938.csv', '25354.csv', '25531.csv', '2592.csv', '2685.csv', '3145.csv', '31857.csv', '3445.csv', '40750.csv', '40984.csv', '41212.csv', '41229.csv', '41559.csv', '8567.csv']\n"
     ]
    }
   ],
   "source": [
    "list_prefilled_stations = os.listdir(os.path.join(BASE_DATA_PATH, r'stations_filled_daily'))\n",
    "filled_stations = os.listdir(os.path.join(BASE_DATA_PATH, r'stations_filled_all_data'))\n",
    "remain_stations = [e for e in list_prefilled_stations if e not in filled_stations]\n",
    "print(remain_stations)"
   ]
  },
  {
   "cell_type": "code",
   "execution_count": 38,
   "metadata": {},
   "outputs": [],
   "source": [
    "def get_df(station: int) -> pd.DataFrame:\n",
    "    \"\"\"Takes id, Returns df from stations_filled_daily\n",
    "    with 'Observation time UTC' as datetime as index\n",
    "    \"\"\"\n",
    "    df = pd.read_csv(\n",
    "    os.path.join(BASE_DATA_PATH, r'stations_filled_daily', f'{station}.csv')\n",
    "    ).drop('Unnamed: 0', axis=1)\n",
    "    df['Observation time UTC'] = pd.to_datetime(df['Observation time UTC']).dt.date\n",
    "    df.set_index('Observation time UTC', inplace=True)\n",
    "    return df"
   ]
  },
  {
   "cell_type": "code",
   "execution_count": 41,
   "metadata": {},
   "outputs": [],
   "source": [
    "def get_df_rel_humidity(station: int, station_column: str, duration_param: str) -> pd.DataFrame:\n",
    "    \"\"\"Returns df with rel_hum data aggregated by day \n",
    "    from unzipped_data\n",
    "    \"\"\"\n",
    "    df = pd.read_csv(\n",
    "    os.path.join(BASE_DATA_PATH, r'unzipped_data', f'{station}__{station_column}__{duration_param}'), \n",
    "    parse_dates=['Observation time UTC']\n",
    "    )\n",
    "    # print(df.info())\n",
    "    # print(df.columns)\n",
    "\n",
    "    df.drop(['Frequency [D/H/S]',\n",
    "        'Maximum Temperature [Deg C]', 'Minimum Temperature [Deg C]',\n",
    "        'Grass Temperature [Deg C]', 'Mean Temperature [Deg C]', 'Data Source'], \n",
    "        axis=1,inplace=True\n",
    "        )\n",
    "    \n",
    "    df = df.groupby(pd.Grouper(key='Observation time UTC', freq='1D')).mean().sort_index(ascending=False)\n",
    "    return df"
   ]
  },
  {
   "cell_type": "code",
   "execution_count": 40,
   "metadata": {},
   "outputs": [
    {
     "data": {
      "text/html": [
       "<div>\n",
       "<style scoped>\n",
       "    .dataframe tbody tr th:only-of-type {\n",
       "        vertical-align: middle;\n",
       "    }\n",
       "\n",
       "    .dataframe tbody tr th {\n",
       "        vertical-align: top;\n",
       "    }\n",
       "\n",
       "    .dataframe thead th {\n",
       "        text-align: right;\n",
       "    }\n",
       "</style>\n",
       "<table border=\"1\" class=\"dataframe\">\n",
       "  <thead>\n",
       "    <tr style=\"text-align: right;\">\n",
       "      <th></th>\n",
       "      <th>station_id</th>\n",
       "      <th>Temperature</th>\n",
       "      <th>Screen_Observations</th>\n",
       "      <th>Rain</th>\n",
       "      <th>Wind</th>\n",
       "    </tr>\n",
       "    <tr>\n",
       "      <th>Observation time UTC</th>\n",
       "      <th></th>\n",
       "      <th></th>\n",
       "      <th></th>\n",
       "      <th></th>\n",
       "      <th></th>\n",
       "    </tr>\n",
       "  </thead>\n",
       "  <tbody>\n",
       "    <tr>\n",
       "      <th>2024-12-09</th>\n",
       "      <td>2592.0</td>\n",
       "      <td>NaN</td>\n",
       "      <td>NaN</td>\n",
       "      <td>NaN</td>\n",
       "      <td>11.41</td>\n",
       "    </tr>\n",
       "    <tr>\n",
       "      <th>2024-12-08</th>\n",
       "      <td>2592.0</td>\n",
       "      <td>NaN</td>\n",
       "      <td>NaN</td>\n",
       "      <td>NaN</td>\n",
       "      <td>14.11</td>\n",
       "    </tr>\n",
       "    <tr>\n",
       "      <th>2024-12-07</th>\n",
       "      <td>2592.0</td>\n",
       "      <td>NaN</td>\n",
       "      <td>NaN</td>\n",
       "      <td>NaN</td>\n",
       "      <td>9.39</td>\n",
       "    </tr>\n",
       "    <tr>\n",
       "      <th>2024-12-06</th>\n",
       "      <td>2592.0</td>\n",
       "      <td>NaN</td>\n",
       "      <td>NaN</td>\n",
       "      <td>0.0</td>\n",
       "      <td>7.41</td>\n",
       "    </tr>\n",
       "    <tr>\n",
       "      <th>2024-12-05</th>\n",
       "      <td>2592.0</td>\n",
       "      <td>NaN</td>\n",
       "      <td>NaN</td>\n",
       "      <td>0.0</td>\n",
       "      <td>14.12</td>\n",
       "    </tr>\n",
       "    <tr>\n",
       "      <th>...</th>\n",
       "      <td>...</td>\n",
       "      <td>...</td>\n",
       "      <td>...</td>\n",
       "      <td>...</td>\n",
       "      <td>...</td>\n",
       "    </tr>\n",
       "    <tr>\n",
       "      <th>1985-03-19</th>\n",
       "      <td>2592.0</td>\n",
       "      <td>14.5</td>\n",
       "      <td>NaN</td>\n",
       "      <td>NaN</td>\n",
       "      <td>NaN</td>\n",
       "    </tr>\n",
       "    <tr>\n",
       "      <th>1985-03-18</th>\n",
       "      <td>2592.0</td>\n",
       "      <td>15.2</td>\n",
       "      <td>NaN</td>\n",
       "      <td>NaN</td>\n",
       "      <td>NaN</td>\n",
       "    </tr>\n",
       "    <tr>\n",
       "      <th>1985-03-17</th>\n",
       "      <td>2592.0</td>\n",
       "      <td>16.5</td>\n",
       "      <td>NaN</td>\n",
       "      <td>NaN</td>\n",
       "      <td>NaN</td>\n",
       "    </tr>\n",
       "    <tr>\n",
       "      <th>1985-03-16</th>\n",
       "      <td>2592.0</td>\n",
       "      <td>17.0</td>\n",
       "      <td>NaN</td>\n",
       "      <td>NaN</td>\n",
       "      <td>NaN</td>\n",
       "    </tr>\n",
       "    <tr>\n",
       "      <th>1985-03-14</th>\n",
       "      <td>2592.0</td>\n",
       "      <td>17.0</td>\n",
       "      <td>NaN</td>\n",
       "      <td>NaN</td>\n",
       "      <td>NaN</td>\n",
       "    </tr>\n",
       "  </tbody>\n",
       "</table>\n",
       "<p>14171 rows × 5 columns</p>\n",
       "</div>"
      ],
      "text/plain": [
       "                      station_id  Temperature  Screen_Observations  Rain  \\\n",
       "Observation time UTC                                                       \n",
       "2024-12-09                2592.0          NaN                  NaN   NaN   \n",
       "2024-12-08                2592.0          NaN                  NaN   NaN   \n",
       "2024-12-07                2592.0          NaN                  NaN   NaN   \n",
       "2024-12-06                2592.0          NaN                  NaN   0.0   \n",
       "2024-12-05                2592.0          NaN                  NaN   0.0   \n",
       "...                          ...          ...                  ...   ...   \n",
       "1985-03-19                2592.0         14.5                  NaN   NaN   \n",
       "1985-03-18                2592.0         15.2                  NaN   NaN   \n",
       "1985-03-17                2592.0         16.5                  NaN   NaN   \n",
       "1985-03-16                2592.0         17.0                  NaN   NaN   \n",
       "1985-03-14                2592.0         17.0                  NaN   NaN   \n",
       "\n",
       "                       Wind  \n",
       "Observation time UTC         \n",
       "2024-12-09            11.41  \n",
       "2024-12-08            14.11  \n",
       "2024-12-07             9.39  \n",
       "2024-12-06             7.41  \n",
       "2024-12-05            14.12  \n",
       "...                     ...  \n",
       "1985-03-19              NaN  \n",
       "1985-03-18              NaN  \n",
       "1985-03-17              NaN  \n",
       "1985-03-16              NaN  \n",
       "1985-03-14              NaN  \n",
       "\n",
       "[14171 rows x 5 columns]"
      ]
     },
     "execution_count": 40,
     "metadata": {},
     "output_type": "execute_result"
    }
   ],
   "source": [
    "df = get_df(2592)\n",
    "df"
   ]
  }
 ],
 "metadata": {
  "kernelspec": {
   "display_name": ".env",
   "language": "python",
   "name": "python3"
  },
  "language_info": {
   "codemirror_mode": {
    "name": "ipython",
    "version": 3
   },
   "file_extension": ".py",
   "mimetype": "text/x-python",
   "name": "python",
   "nbconvert_exporter": "python",
   "pygments_lexer": "ipython3",
   "version": "3.11.0"
  }
 },
 "nbformat": 4,
 "nbformat_minor": 2
}
