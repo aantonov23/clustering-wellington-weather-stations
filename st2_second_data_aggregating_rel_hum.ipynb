{
 "cells": [
  {
   "cell_type": "markdown",
   "metadata": {},
   "source": [
    "## Filling missing data for each station"
   ]
  },
  {
   "cell_type": "code",
   "execution_count": 54,
   "metadata": {},
   "outputs": [],
   "source": [
    "import os\n",
    "import pandas as pd"
   ]
  },
  {
   "cell_type": "code",
   "execution_count": 55,
   "metadata": {},
   "outputs": [],
   "source": [
    "BASE_DATA_PATH = r'C:\\D\\Whitireia\\ARP\\data'"
   ]
  },
  {
   "cell_type": "code",
   "execution_count": 56,
   "metadata": {},
   "outputs": [
    {
     "name": "stdout",
     "output_type": "stream",
     "text": [
      "C:\\D\\Whitireia\\ARP\\data\\unzipped_data\n"
     ]
    }
   ],
   "source": [
    "unzipped_data = os.path.join(BASE_DATA_PATH, r'unzipped_data')\n",
    "list_csv_files = os.listdir(unzipped_data)\n",
    "print(unzipped_data)"
   ]
  },
  {
   "cell_type": "code",
   "execution_count": 57,
   "metadata": {},
   "outputs": [],
   "source": [
    "rel_hum_parser_dict = {\n",
    "    12442: '12442__Temperature__H.csv',\n",
    "    18234: '18234__Temperature__H.csv',\n",
    "    25354: '25354__Temperature__A.csv',\n",
    "    25531: '25531__Temperature__A.csv',\n",
    "    2592: '2592__Temperature__A.csv',\n",
    "    2685: '2685__Temperature__A.csv',\n",
    "    3445: '3445__Temperature__A.csv',\n",
    "    40750: '40750__Temperature__H.csv',\n",
    "    40984: '40984__Temperature__H.csv',\n",
    "    41212: '41212__Temperature__H.csv',\n",
    "    41229: '41229__Temperature__A.csv',\n",
    "    41559: '41559__Temperature__H.csv',\n",
    "    8567: '8567__Temperature__A.csv',\n",
    "    21938: '21938__Temperature__H.csv',\n",
    "    3145: '3145__Screen_Observations__D.csv',\n",
    "    31857: '31857__Screen_Observations__D.csv'\n",
    "}"
   ]
  },
  {
   "cell_type": "code",
   "execution_count": 58,
   "metadata": {},
   "outputs": [
    {
     "name": "stdout",
     "output_type": "stream",
     "text": [
      "8 ['31857.csv', '3445.csv', '40750.csv', '40984.csv', '41212.csv', '41229.csv', '41559.csv', '8567.csv']\n"
     ]
    }
   ],
   "source": [
    "list_prefilled_stations = os.listdir(os.path.join(BASE_DATA_PATH, r'stations_filled_daily'))\n",
    "filled_stations = os.listdir(os.path.join(BASE_DATA_PATH, r'stations_filled_all_data'))\n",
    "remain_stations = [e for e in list_prefilled_stations if e not in filled_stations]\n",
    "print(len(remain_stations), remain_stations)"
   ]
  },
  {
   "cell_type": "code",
   "execution_count": 59,
   "metadata": {},
   "outputs": [],
   "source": [
    "def get_df(station: int) -> pd.DataFrame:\n",
    "    \"\"\"Takes id, Returns df from stations_filled_daily\n",
    "    with 'Observation time UTC' (datetime type) as index\n",
    "    \"\"\"\n",
    "    df = pd.read_csv(\n",
    "    os.path.join(BASE_DATA_PATH, r'stations_filled_daily', f'{station}.csv')\n",
    "    ).drop('Unnamed: 0', axis=1)\n",
    "    df['Observation time UTC'] = pd.to_datetime(df['Observation time UTC']).dt.date\n",
    "    df.set_index('Observation time UTC', inplace=True)\n",
    "    return df"
   ]
  },
  {
   "cell_type": "code",
   "execution_count": 63,
   "metadata": {},
   "outputs": [],
   "source": [
    "def get_df_rel_humidity(station: int, station_column: str, duration_param: str) -> pd.DataFrame:\n",
    "    \"\"\"Returns df with rel_hum data aggregated by day \n",
    "    from unzipped_data\n",
    "    \"\"\"\n",
    "    df = pd.read_csv(\n",
    "    os.path.join(BASE_DATA_PATH, r'unzipped_data', f'{station}__{station_column}__{duration_param}'), \n",
    "    parse_dates=['Observation time UTC']\n",
    "    )\n",
    "    # print(df.info())\n",
    "    # print(df.columns)\n",
    "\n",
    "    if (station != 3145) and (station != 31857):\n",
    "        df.drop(['Frequency [D/H/S]',\n",
    "            'Maximum Temperature [Deg C]', 'Minimum Temperature [Deg C]',\n",
    "            'Grass Temperature [Deg C]', 'Mean Temperature [Deg C]', 'Data Source'], \n",
    "            axis=1,inplace=True\n",
    "            )\n",
    "    else:\n",
    "        df.drop(['Air temperature (dry bulb) [Deg C]', 'Wet bulb temperature [Deg C]', \n",
    "            'Dew point temperature [Deg C]','Data Source'], \n",
    "            axis=1,inplace=True\n",
    "            )\n",
    "        df.columns = ['Observation time UTC', 'Mean Relative Humidity [percent]']\n",
    "    \n",
    "    df = df.groupby(pd.Grouper(key='Observation time UTC', freq='1D')).mean().sort_index(ascending=False)\n",
    "    df.index = pd.to_datetime(df.index).date\n",
    "    return df"
   ]
  },
  {
   "cell_type": "code",
   "execution_count": 61,
   "metadata": {},
   "outputs": [
    {
     "name": "stdout",
     "output_type": "stream",
     "text": [
      "['12442.csv', '18234.csv', '21938.csv', '25354.csv', '25531.csv', '2592.csv', '2685.csv', '3145.csv', '31857.csv', '3445.csv', '40750.csv', '40984.csv', '41212.csv', '41229.csv', '41559.csv', '8567.csv']\n",
      "<class 'str'>\n"
     ]
    }
   ],
   "source": [
    "print(list_prefilled_stations)\n",
    "print(type(list_prefilled_stations[0]))"
   ]
  },
  {
   "cell_type": "code",
   "execution_count": 64,
   "metadata": {},
   "outputs": [
    {
     "name": "stdout",
     "output_type": "stream",
     "text": [
      "Station Id: '12442', Station column: 'Temperature', Duration: 'H.csv'\n",
      "Station Id: '18234', Station column: 'Temperature', Duration: 'H.csv'\n",
      "Station Id: '21938', Station column: 'Temperature', Duration: 'H.csv'\n",
      "Station Id: '25354', Station column: 'Temperature', Duration: 'A.csv'\n",
      "Station Id: '25531', Station column: 'Temperature', Duration: 'A.csv'\n",
      "Station Id: '2592', Station column: 'Temperature', Duration: 'A.csv'\n",
      "Station Id: '2685', Station column: 'Temperature', Duration: 'A.csv'\n",
      "Station Id: '3145', Station column: 'Screen_Observations', Duration: 'D.csv'\n",
      "Station Id: '31857', Station column: 'Screen_Observations', Duration: 'D.csv'\n",
      "Station Id: '3445', Station column: 'Temperature', Duration: 'A.csv'\n",
      "Station Id: '40750', Station column: 'Temperature', Duration: 'H.csv'\n",
      "Station Id: '40984', Station column: 'Temperature', Duration: 'H.csv'\n",
      "Station Id: '41212', Station column: 'Temperature', Duration: 'H.csv'\n",
      "Station Id: '41229', Station column: 'Temperature', Duration: 'A.csv'\n",
      "Station Id: '41559', Station column: 'Temperature', Duration: 'H.csv'\n",
      "Station Id: '8567', Station column: 'Temperature', Duration: 'A.csv'\n"
     ]
    }
   ],
   "source": [
    "for station in list_prefilled_stations:\n",
    "    station_id = int(station.split('.')[0])\n",
    "    station_column = rel_hum_parser_dict[station_id].split('__')[1]\n",
    "    duration_param = rel_hum_parser_dict[station_id].split('__')[2]\n",
    "    print(f\"Station Id: '{station_id}', Station column: '{station_column}', Duration: '{duration_param}'\")\n",
    "    \n",
    "    station_df = get_df(station=station_id)\n",
    "    rel_hum_df = get_df_rel_humidity(station=station_id, station_column=station_column, duration_param=duration_param)\n",
    "\n",
    "    result_df = pd.merge(station_df, rel_hum_df, how='left', left_index=True, right_index=True)\n",
    "    result_df['Screen_Observations'] = result_df['Mean Relative Humidity [percent]']\n",
    "    result_df.drop('Mean Relative Humidity [percent]', axis=1, inplace=True)\n",
    "    result_df.to_csv(os.path.join(BASE_DATA_PATH, r'stations_filled_all_data', station))\n",
    "    result_df"
   ]
  }
 ],
 "metadata": {
  "kernelspec": {
   "display_name": ".env",
   "language": "python",
   "name": "python3"
  },
  "language_info": {
   "codemirror_mode": {
    "name": "ipython",
    "version": 3
   },
   "file_extension": ".py",
   "mimetype": "text/x-python",
   "name": "python",
   "nbconvert_exporter": "python",
   "pygments_lexer": "ipython3",
   "version": "3.11.0"
  }
 },
 "nbformat": 4,
 "nbformat_minor": 2
}
